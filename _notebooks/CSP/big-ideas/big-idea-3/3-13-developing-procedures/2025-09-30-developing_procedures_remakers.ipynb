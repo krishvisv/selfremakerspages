{
 "cells": [
  {
   "cell_type": "markdown",
   "id": "e6667ee4",
   "metadata": {},
   "source": [
    "---\n",
    "toc: true\n",
    "comments: false\n",
    "layout: post\n",
    "categories: [CSP Big Idea 3]\n",
    "title: 3.13 Developing Procedures\n",
    "author: Krishna Visvanath, Sloane Sommers, Lucas Masterson\n",
    "description: Lesson for developing procedures.\n",
    "type: ccc\n",
    "permalink: /csp/big-idea-3/developing-procedures/p4/introducton\n",
    "---"
   ]
  },
  {
   "cell_type": "markdown",
   "id": "4835aebc",
   "metadata": {},
   "source": [
    "# Developing Procedures (Methods / Functions)\n",
    "\n",
    "Learning goals:\n",
    "- Understand what a procedure (method/function) is and why we use them.\n",
    "- See equivalent examples in Java and Python.\n",
    "- Play a short, interactive minigame that shows why good procedure names and organization matter."
   ]
  },
  {
   "cell_type": "markdown",
   "id": "4e58f38a",
   "metadata": {},
   "source": [
    "## What is a procedure?\n",
    "A procedure (also called a method or function) is a named block of code that does one task.\n",
    "Think of a procedure like a recipe step: it has a name, inputs (ingredients), and it produces a result or performs an action."
   ]
  },
  {
   "cell_type": "markdown",
   "id": "905b1e8d",
   "metadata": {},
   "source": [
    "## Story: The Dessert Robot- The Importance of Naming\n",
    "Imagine a robot chef who makes desserts. If we tell the robot `makeDessert()` it needs clear sub-steps: `measureFlour()`, `mixIngredients()`, `bake()`. Additionally, if we need to review code later, it is much easier to find the series of events responsible for `makeDessert()`. If we instead call everything `doIt()` the robot — and humans reading the code — get confused. Clear names make code easier to read, test, and reuse."
   ]
  },
  {
   "cell_type": "markdown",
   "id": "3b1f7791",
   "metadata": {},
   "source": [
    "### Java example (methods)\n",
    "Below is a short Java-style example showing a class with methods. This cell is explanatory only — it shows syntax and structure."
   ]
  },
  {
   "cell_type": "code",
   "execution_count": null,
   "id": "26399e18",
   "metadata": {},
   "outputs": [],
   "source": [
    "# Java example as a text string (for reading)\n",
    "java_code = '''\n",
    "public class DessertRobot {\n",
    "    public static void main(String[] args) {\n",
    "        DessertRobot r = new DessertRobot();\n",
    "        r.makeDessert();\n",
    "    }\n",
    "\n",
    "    public void makeDessert() {\n",
    "        measureFlour();\n",
    "        mixIngredients();\n",
    "        bake();\n",
    "    }\n",
    "\n",
    "    private void measureFlour() {\n",
    "        // measure flour precisely\n",
    "    }\n",
    "\n",
    "    private void mixIngredients() {\n",
    "        // mix everything together\n",
    "    }\n",
    "\n",
    "    private void bake() {\n",
    "        // bake at correct temperature\n",
    "    }\n",
    "}\n",
    "'''\n",
    "print(java_code)"
   ]
  },
  {
   "cell_type": "markdown",
   "id": "10d51031",
   "metadata": {},
   "source": [
    "### Python example (functions)\n",
    "Here's the same idea in Python. Functions perform small tasks and are called from a main function."
   ]
  },
  {
   "cell_type": "code",
   "execution_count": null,
   "id": "5dde8ce3",
   "metadata": {},
   "outputs": [],
   "source": [
    "def make_dessert():\n",
    "    measure_flour()\n",
    "    mix_ingredients()\n",
    "    bake()\n",
    "\n",
    "def measure_flour():\n",
    "    print(\"Measuring 2 cups of flour.\")\n",
    "\n",
    "def mix_ingredients():\n",
    "    print(\"Mixing flour, sugar, eggs.\")\n",
    "\n",
    "def bake():\n",
    "    print(\"Baking at 350°F for 25 minutes.\")\n",
    "\n",
    "# Run the procedure\n",
    "if __name__ == '__main__':\n",
    "    make_dessert()"
   ]
  },
  {
   "cell_type": "markdown",
   "id": "132a0d1c",
   "metadata": {},
   "source": [
    "## Mini-game: Name the Procedures\n",
    "The game below shows a list of steps the program can take, each implemented as a function. Students type a name for a new procedure and the game will call it. If your name clearly describes the steps, it's easy to understand what the game will do. If you name everything `do_step` the code is confusing. Try both and see the difference.\n",
    "The cell that follows is interactive. Run it and follow the prompts in the notebook output."
   ]
  },
  {
   "cell_type": "code",
   "execution_count": null,
   "id": "8d2f2ae7",
   "metadata": {},
   "outputs": [],
   "source": [
    "import random\n",
    "\n",
    "def choose_ingredient():\n",
    "    return random.choice(['flour', 'sugar', 'eggs', 'milk'])\n",
    "\n",
    "def mix(item):\n",
    "    print(f\"Mixing {item} into the bowl.\")\n",
    "\n",
    "def heat():\n",
    "    print('Heating the oven to a friendly temperature...')\n",
    "\n",
    "def finish():\n",
    "    print('Dessert is ready!')\n",
    "\n",
    "def play_game():\n",
    "    print('\n",
    "Mini-game: Name a procedure for\n",
    "  - choosing an ingredient\n",
    "  - putting it into the bowl (mixing)\n",
    "  - heating/baking\n",
    "  - finishing the dessert')\n",
    "    name = input('Type a procedure name you want to create (e.g. prepare_ingredient): ').strip()\n",
    "    if not name:\n",
    "        print('No name entered — using default: prepare_ingredient')\n",
    "        name = 'prepare_ingredient'\n",
    "\n",
    "    # Create a new procedure dynamically with the given name that runs the sequence\n",
    "    def dynamic_procedure():\n",
    "        ingr = choose_ingredient()\n",
    "        mix(ingr)\n",
    "        heat()\n",
    "        finish()\n",
    "\n",
    "    # Bind it into globals so we can show how naming helps with readability\n",
    "    globals()[name] = dynamic_procedure\n",
    "\n",
    "    print(f'Created a procedure called \n",
    " that does multiple steps.')\n",
    "    print('\n",
    "Now lets show two ways to look at the code:')\n",
    "\n",
    "    print('\n",
    "1) Good name (readable):')\n",
    "    print(f'   {name}()  # clearly indicates the goal is to prepare an ingredient and finish the dessert')\n",
    "    print('\n",
    "2) Poor name (confusing):')\n",
    "    print('   do_step()  # what does this do? you must open the function to find out')\n",
    "\n",
    "    run = input('\n",
    "Type \n",
    " to execute your procedure now, or anything else to cancel: ').strip().lower()\n",
    "    if run == 'run':\n",
    "        print('\n",
    "Running the procedure...')\n",
    "        globals()[name]()\n",
    "    else:\n",
    "        print('Canceled. You can run the procedure later by calling it by name.')\n",
    "\n",
    "if __name__ == '__main__':\n",
    "    play_game()"
   ]
  },
  {
   "cell_type": "markdown",
   "id": "7de54282",
   "metadata": {},
   "source": [
    "### Demonstration of poor naming\n",
    "Below are two short examples showing the risk of vague names. It's much harder to remember `do_step()` does choosing, mixing, heating, and finishing. Good names reduce bugs and make collaboration easier."
   ]
  },
  {
   "cell_type": "code",
   "execution_count": null,
   "id": "1f2b5b1f",
   "metadata": {},
   "outputs": [],
   "source": [
    "# Example showing bad naming\n",
    "def do_step():\n",
    "    print('Choosing ingredient...')\n",
    "    print('Mixing...')\n",
    "    print('Heating...')\n",
    "    print('Finished!')\n",
    "\n",
    "# Later a collaborator sees do_step() and doesn't know what it does without opening it\n",
    "print('Calling do_step() (confusing name):')\n",
    "do_step()"
   ]
  },
  {
   "cell_type": "code",
   "execution_count": null,
   "id": "33f4be40",
   "metadata": {},
   "outputs": [],
   "source": [
    "# Second example showing bad naming\n",
    "def make_cake():\n",
    "    print('pick...')\n",
    "    print('create...')\n",
    "    print('Finished!')\n",
    "\n",
    "# Later a collaborator is debugging code, and does not know what each procedure does without opening it, meaning they have to go through every line to debug"
   ]
  },
  {
   "cell_type": "markdown",
   "id": "7488d02b",
   "metadata": {},
   "source": [
    "## Teaching tips and exercises\n",
    "- Exercise 1: Rename the functions in the Python example to be more descriptive.\n",
    "- Exercise 2: Convert the Python functions to Java methods and explain access (public/private).\n",
    "- Exercise 3: Split a long procedure into smaller ones and show how tests become easier."
   ]
  },
  {
   "cell_type": "markdown",
   "id": "6d5e7c70",
   "metadata": {},
   "source": [
    "## How to run the mini-game\n",
    "Run the Python cells in order. When you reach the mini-game cell, you'll be prompted to type a procedure name and optionally run it. If you use the notebook server (Jupyter), the input prompt will appear under the cell output."
   ]
  }
 ],
 "metadata": {
  "language_info": {
   "name": "python"
  }
 },
 "nbformat": 4,
 "nbformat_minor": 5
}
