{
 "cells": [
  {
   "cell_type": "raw",
   "id": "f7d70aa2",
   "metadata": {
    "vscode": {
     "languageId": "raw"
    }
   },
   "source": [
    "---\n",
    "layout: post\n",
    "title: \"3.1 Variables & Assignments hacks\"\n",
    "categories: [Programming Fundamentals, Tutorial]\n",
    "tags: [python, javascript, variables, assignment, beginner]\n",
    "description: Apply your understanding of Variables & Assignments with these hacks\n",
    "author: Aditya Srivastava, Laya Balaji\n",
    "permalink: /javascript/variables/crashers-hw\n",
    "---"
   ]
  },
  {
   "cell_type": "markdown",
   "id": "ce56910b",
   "metadata": {},
   "source": [
    "# 🐷 Peppa Maze Variables & Assignments Hacks\n",
    "Welcome to the Peppa Maze hacks! These challenges will test your understanding of variables, assignments, and logic in Javascript. Read each task, then write or modify code to solve it."
   ]
  },
  {
   "cell_type": "markdown",
   "id": "7dee3bb5",
   "metadata": {},
   "source": [
    "## Hack 1: JavaScript - Variable Assignment, Naming, and Operators\n",
    "Create variables for Peppa's name, score, and level using good JavaScript naming conventions. Assign initial values, then use operators to update score (add 10) and level (multiply by 2). Print all results."
   ]
  },
  {
   "cell_type": "code",
   "execution_count": 13,
   "id": "e4bee113",
   "metadata": {
    "vscode": {
     "languageId": "javascript"
    }
   },
   "outputs": [
    {
     "data": {
      "application/javascript": "// Write your code here\n// Create variables for Peppa's name, score, and level\n// Use operators to update score and level\n\nconst peppaName = \"Peppa\";\nlet peppaScore = 0;\nlet peppaLevel = 1;\n\n// Function to update Peppa's score\nfunction updateScore() {\n    console.log(\"Peppa score starts at 0 =\", peppaScore);\n    peppaScore = peppaScore + 10;  // Add 10 to score\n    console.log(\"After increasing score: peppaScore =\", peppaScore);\n}\n\n// Function to level up Peppa\nfunction levelUp() {\n    console.log(\"Peppa level starts at 1 =\", peppaLevel);\n    peppaLevel = peppaLevel * 2;  // Multiply level by 2\n    console.log(\"After leveling up: peppaLevel =\", peppaLevel);\n}\n\n// Call the functions to show results\nupdateScore();\nlevelUp();\n\n",
      "text/plain": [
       "<IPython.core.display.Javascript object>"
      ]
     },
     "metadata": {},
     "output_type": "display_data"
    }
   ],
   "source": [
    "%%js\n",
    "// Write your code here\n",
    "// Create variables for Peppa's name, score, and level\n",
    "// Use operators to update score and level\n",
    "\n",
    "const peppaName = \"Peppa\";\n",
    "let peppaScore = 0;\n",
    "let peppaLevel = 1;\n",
    "\n",
    "// Function to update Peppa's score\n",
    "function updateScore() {\n",
    "    console.log(\"Peppa score starts at 0 =\", peppaScore);\n",
    "    peppaScore = peppaScore + 10;  // Add 10 to score\n",
    "    console.log(\"After increasing score: peppaScore =\", peppaScore);\n",
    "}\n",
    "\n",
    "// Function to level up Peppa\n",
    "function levelUp() {\n",
    "    console.log(\"Peppa level starts at 1 =\", peppaLevel);\n",
    "    peppaLevel = peppaLevel * 2;  // Multiply level by 2\n",
    "    console.log(\"After leveling up: peppaLevel =\", peppaLevel);\n",
    "}\n",
    "\n",
    "// Call the functions to show results\n",
    "updateScore();\n",
    "levelUp();\n",
    "\n"
   ]
  },
  {
   "cell_type": "markdown",
   "id": "3f8a5cbe",
   "metadata": {},
   "source": [
    "## Hack 2: JavaScript - Variable Declaration, Assignment, and Operators\n",
    "Declare variables for Peppa and George's scores using good JavaScript naming conventions. Assign initial values, then use operators to update both scores (e.g., Peppa gets 15 points, George loses 5 points). Print both scores."
   ]
  },
  {
   "cell_type": "code",
   "execution_count": 22,
   "id": "c4c80df3",
   "metadata": {
    "vscode": {
     "languageId": "javascript"
    }
   },
   "outputs": [
    {
     "data": {
      "application/javascript": "// Write your code here\n// Declare variables for Peppa and George's scores\n// Use operators to update both scores\nlet peppasScore = 0;\nlet georgesScore = 0;\n\n// Function to update Peppa's score\nfunction updatePeppasScore() {\n    peppasScore = peppasScore + 15;\n    console.log(\"Peppa's score is now=\", peppasScore);\n}\n\n// Function to update George's score\nfunction updateGeorgesScore() {\n    georgesScore = georgesScore - 5;\n    console.log(\"George's score is now=\", georgesScore);\n}\n",
      "text/plain": [
       "<IPython.core.display.Javascript object>"
      ]
     },
     "metadata": {},
     "output_type": "display_data"
    }
   ],
   "source": [
    "%%js\n",
    "// Write your code here\n",
    "// Declare variables for Peppa and George's scores\n",
    "// Use operators to update both scores\n",
    "let peppasScore = 0;\n",
    "let georgesScore = 0;\n",
    "\n",
    "// Function to update Peppa's score\n",
    "function updatePeppasScore() {\n",
    "    peppasScore = peppasScore + 15;\n",
    "    console.log(\"Peppa's score is now=\", peppasScore);\n",
    "}\n",
    "\n",
    "// Function to update George's score\n",
    "function updateGeorgesScore() {\n",
    "    georgesScore = georgesScore - 5;\n",
    "    console.log(\"George's score is now=\", georgesScore);\n",
    "}"
   ]
  },
  {
   "cell_type": "markdown",
   "id": "30580c24",
   "metadata": {},
   "source": [
    "## Hack 3: JavaScript - Multiple Assignment and Math Operators\n",
    "Peppa and George both start at level 1. Use a single line to assign both their levels to 5. Then, calculate a combined score by multiplying their levels together and multiplying by 10. Print all results."
   ]
  },
  {
   "cell_type": "code",
   "execution_count": null,
   "id": "67774ff3",
   "metadata": {
    "vscode": {
     "languageId": "javascript"
    }
   },
   "outputs": [],
   "source": [
    "%%javascript\n",
    "// Write your code here\n",
    "// let peppaLevel = 1, georgeLevel = 1;\n",
    "// Assign both levels to 5 in one line\n",
    "// Calculate combinedScore = peppaLevel * georgeLevel * 10;\n",
    "// Print all results"
   ]
  }
 ],
 "metadata": {
  "kernelspec": {
   "display_name": "venv",
   "language": "python",
   "name": "python3"
  },
  "language_info": {
   "codemirror_mode": {
    "name": "ipython",
    "version": 3
   },
   "file_extension": ".py",
   "mimetype": "text/x-python",
   "name": "python",
   "nbconvert_exporter": "python",
   "pygments_lexer": "ipython3",
   "version": "3.12.3"
  }
 },
 "nbformat": 4,
 "nbformat_minor": 5
}
